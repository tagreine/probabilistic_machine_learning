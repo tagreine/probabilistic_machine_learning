{
 "cells": [
  {
   "attachments": {},
   "cell_type": "markdown",
   "metadata": {},
   "source": [
    "# Probabilistic machine learning and Bayesian neural networks"
   ]
  },
  {
   "attachments": {},
   "cell_type": "markdown",
   "metadata": {},
   "source": [
    "### 1. Bernoulli distribution example"
   ]
  },
  {
   "attachments": {},
   "cell_type": "markdown",
   "metadata": {},
   "source": [
    "First, lets have a look at the Bernoulli distribution with a simple example of the the weather as being either good or bad, i.e., \n",
    "\n",
    "$$ weather = \\{Bad, Good\\}, $$\n",
    "\n",
    "using the shorthand encoded \n",
    "\n",
    "$$ w = \\{0, 1\\}, $$\n",
    "\n",
    "with the probability density function\n",
    "\n",
    "$p(w) = \\theta^w (1 - \\theta)^{(1 - w)}$\n",
    "\n",
    "where $ \\theta = $ probability of good weather and $ w \\sim Bernoulli(\\theta)$ are our observations. Lets assume we have good weather at a 80 % rate, so $ \\theta = 0.8$. \n"
   ]
  },
  {
   "cell_type": "code",
   "execution_count": 1,
   "metadata": {},
   "outputs": [],
   "source": [
    "# importing some important libraries\n",
    "import numpy as np\n",
    "import tensorflow as tf\n",
    "import tensorflow_probability as tfp\n",
    "tfd = tfp.distributions\n",
    "\n",
    "# utils\n",
    "from utils.plotting_utils import plot_bernoulli_data\n",
    "from utils.plotting_utils import plot_fake_probabilistic_regression_model\n"
   ]
  },
  {
   "attachments": {},
   "cell_type": "markdown",
   "metadata": {},
   "source": [
    "Lets define the weather distribution\n",
    "\n",
    "$p(w) = \\theta^w (1 - \\theta)^{(1 - w)}$"
   ]
  },
  {
   "cell_type": "code",
   "execution_count": 20,
   "metadata": {},
   "outputs": [],
   "source": [
    "good_weather_truth = 0.8\n",
    "weather = tfd.Bernoulli(probs=good_weather_truth, name=\"weather_probability\")"
   ]
  },
  {
   "attachments": {},
   "cell_type": "markdown",
   "metadata": {},
   "source": [
    "Now lets produce our dataset, which will display something like $D = \\{Good, Bad, Good, Good, Good, ...\\} = \\{1, 0, 1, 1, 1, ...\\}  $ "
   ]
  },
  {
   "cell_type": "code",
   "execution_count": 21,
   "metadata": {},
   "outputs": [
    {
     "data": {
      "image/png": "[encoded data removed]",
      "text/plain": [
       "<Figure size 1000x300 with 1 Axes>"
      ]
     },
     "metadata": {},
     "output_type": "display_data"
    }
   ],
   "source": [
    "number_of_samples = 10\n",
    "weather_dataset = weather.sample(number_of_samples)\n",
    "plot_bernoulli_data(dataset=weather_dataset, p=\"Good weather\", q=\"Bad weather\")"
   ]
  },
  {
   "attachments": {},
   "cell_type": "markdown",
   "metadata": {},
   "source": [
    "Lets have a look at the data"
   ]
  },
  {
   "attachments": {},
   "cell_type": "markdown",
   "metadata": {},
   "source": [
    "and lets look at the likelihood of the dataset, defined as\n",
    "\n",
    "$$ p(D) = \\prod_{i=0} ^ {N - 1} p(W = w^{[i]}) = \\prod_{i=0} ^ {N - 1} \\theta^{w^{[i]}} (1 - \\theta)^{(1 - w^{[i]})}  $$\n",
    "\n",
    "i.e., its just a series of products of the observations $w^{[i]}$, $ i=0, 1, ...$ "
   ]
  },
  {
   "cell_type": "code",
   "execution_count": 18,
   "metadata": {},
   "outputs": [
    {
     "name": "stdout",
     "output_type": "stream",
     "text": [
      "[0.19999999 0.19999999 0.19999999 0.19999999 0.79999995 0.79999995\n",
      " 0.79999995 0.79999995 0.79999995 0.19999999]\n",
      "0.000104857536\n"
     ]
    }
   ],
   "source": [
    "weather_probs = weather.prob(dataset)\n",
    "likelihood = tf.reduce_prod(weather_probs)\n",
    "print(\"The probabilities: \", weather_probs.numpy())\n",
    "print(\"\", likelihood.numpy())"
   ]
  },
  {
   "attachments": {},
   "cell_type": "markdown",
   "metadata": {},
   "source": [
    "Lets assume we do not know the true parameter $\\theta$, but instead have to estimated it from the data. For this we can use the Maximum Likelihood Estimation (MLE) technique, where we try to maximize the likelihood given the data, or minimize the negative log-likelihood, i.e.,\n",
    "\n",
    "$$ \\ell (D; \\theta) = \\log \\prod_{i=0} ^ {N - 1} p(W = w^{[i]}) =  \\sum_{i=0} ^ {N - 1} \\log p(W = w^{[i]}) =  \\sum_{i=0} ^ {N - 1} w^{[i]}\\log (\\theta) + (1 - w^{[i]})\\log(1 - w^{[i]})  $$\n",
    "\n",
    "our estimator is the parameter that maximizes the log-likelihood, i.e.,\n",
    "\n",
    "$$ \\theta^{*} = \\argmax_{\\theta \\in [0, 1]} \\sum_{i=0} ^ {N - 1} w^{[i]}\\log (\\theta) + (1 - w^{[i]})\\log(1 - w^{[i]}). $$\n",
    "\n",
    "This can be colapsed into a the simple solution of being the mean of the dataset\n",
    "\n",
    "$$ \\theta^{*} = \\frac{1}{N} \\sum_{i=0}^{N-1} w^{[i]} $$\n"
   ]
  },
  {
   "cell_type": "code",
   "execution_count": 6,
   "metadata": {},
   "outputs": [
    {
     "name": "stdout",
     "output_type": "stream",
     "text": [
      "The estimate of the probability for weather being good:  0.8\n"
     ]
    }
   ],
   "source": [
    "number_of_samples = 10\n",
    "dataset_new = weather.sample(number_of_samples)\n",
    "estimate = tf.reduce_mean(tf.cast(dataset_new, float)).numpy()\n",
    "print(\"The estimate of the probability for weather being good: \", estimate)"
   ]
  },
  {
   "attachments": {},
   "cell_type": "markdown",
   "metadata": {},
   "source": [
    "Lets try a different approach, using automatic differentation, i.e., gradient-based optimization. In this case we want to, instead of maximizing, but minimizing the negative log-likelihood, i.e.,\n",
    "\n",
    "$$ \\theta^{*} = \\argmin_{\\theta \\in [0, 1]}  - \\sum_{i=0} ^ {N - 1} \\ell (D; \\theta). $$\n",
    "\n",
    "First, lets model parameter we want to optimize for"
   ]
  },
  {
   "cell_type": "code",
   "execution_count": 7,
   "metadata": {},
   "outputs": [
    {
     "data": {
      "text/plain": [
       "<TransformedVariable: name=weather_estimate, dtype=float32, shape=[], fn=\"soft_clip\", numpy=0.5>"
      ]
     },
     "execution_count": 7,
     "metadata": {},
     "output_type": "execute_result"
    }
   ],
   "source": [
    "initial_guess = 0.5\n",
    "weather_theta =  tfp.util.TransformedVariable(initial_value=initial_guess, bijector=tfp.bijectors.SoftClip(low=0.0, high=1.0), name=\"weather_estimate\")\n",
    "weather_theta"
   ]
  },
  {
   "attachments": {},
   "cell_type": "markdown",
   "metadata": {},
   "source": [
    "and the distribution"
   ]
  },
  {
   "cell_type": "code",
   "execution_count": 8,
   "metadata": {},
   "outputs": [],
   "source": [
    "weather_fit = tfd.Bernoulli(probs=weather_theta, name=\"weather_fit\")"
   ]
  },
  {
   "attachments": {},
   "cell_type": "markdown",
   "metadata": {},
   "source": [
    "and then the negative log-likelihood, which is the loss function\n",
    "\n",
    "$$Loss = - \\sum_{i=0} ^ {N - 1} \\ell (D; \\theta) = - \\sum_{i=0} ^ {N - 1} w^{[i]}\\log (\\theta) + (1 - w^{[i]})\\log(1 - w^{[i]}),$$\n",
    "\n",
    "which is just the negative sum over all log-probabilities"
   ]
  },
  {
   "cell_type": "code",
   "execution_count": 9,
   "metadata": {},
   "outputs": [
    {
     "name": "stdout",
     "output_type": "stream",
     "text": [
      "Initial value of the loss:  6.931472\n"
     ]
    }
   ],
   "source": [
    "neg_log_likelihood = lambda : - tf.reduce_sum(weather_fit.log_prob(dataset_new))\n",
    "print(\"Initial value of the loss: \", neg_log_likelihood().numpy())"
   ]
  },
  {
   "attachments": {},
   "cell_type": "markdown",
   "metadata": {},
   "source": [
    "This can be minimized easily by using tensorflow probability math.minimize and choosing a proper gradient-based optimizer"
   ]
  },
  {
   "cell_type": "code",
   "execution_count": 10,
   "metadata": {},
   "outputs": [
    {
     "name": "stderr",
     "output_type": "stream",
     "text": [
      "2023-02-24 16:33:16.304160: W tensorflow/core/platform/profile_utils/cpu_utils.cc:128] Failed to get CPU frequency: 0 Hz\n",
      "2023-02-24 16:33:16.304311: I tensorflow/core/grappler/optimizers/custom_graph_optimizer_registry.cc:113] Plugin optimizer for device_type GPU is enabled.\n"
     ]
    },
    {
     "data": {
      "text/plain": [
       "<tf.Tensor: shape=(1000,), dtype=float32, numpy=\n",
       "array([6.931472 , 6.6534395, 6.3993626, 6.1693735, 5.963376 , 5.7810144,\n",
       "       5.621676 , 5.4844894, 5.3683395, 5.271882 , 5.1935835, 5.1317506,\n",
       "       5.0845833, 5.0502195, 5.026786 , 5.0124464, 5.0054474, 5.0041504,\n",
       "       5.0070662, 5.0128717, 5.020425 , 5.028763 , 5.037108 , 5.044852 ,\n",
       "       5.051547 , 5.05689  , 5.0607047, 5.0629234, 5.0635715, 5.0627456,\n",
       "       5.0606   , 5.057332 , 5.0531626, 5.048329 , 5.043069 , 5.037611 ,\n",
       "       5.0321693, 5.0269322, 5.0220594, 5.0176754, 5.0138717, 5.010701 ,\n",
       "       5.0081863, 5.0063133, 5.005041 , 5.0043077, 5.004032 , 5.0041237,\n",
       "       5.004485 , 5.0050225, 5.005647 , 5.006282 , 5.0068617, 5.0073385,\n",
       "       5.0076814, 5.007872 , 5.0079107, 5.0078044, 5.0075746, 5.007247 ,\n",
       "       5.0068507, 5.0064163, 5.0059714, 5.005542 , 5.005149 , 5.004807 ,\n",
       "       5.004527 , 5.004311 , 5.00416  , 5.004068 , 5.004028 , 5.0040293,\n",
       "       5.0040617, 5.004114 , 5.004175 , 5.0042386, 5.0042944, 5.0043387,\n",
       "       5.0043683, 5.0043817, 5.004379 , 5.0043616, 5.0043325, 5.004295 ,\n",
       "       5.004253 , 5.0042086, 5.0041647, 5.0041256, 5.0040917, 5.004065 ,\n",
       "       5.004045 , 5.0040317, 5.0040255, 5.0040236, 5.004027 , 5.0040326,\n",
       "       5.004039 , 5.0040464, 5.004053 , 5.004059 , 5.0040617, 5.0040627,\n",
       "       5.0040617, 5.0040593, 5.0040555, 5.004051 , 5.0040455, 5.0040407,\n",
       "       5.0040364, 5.004032 , 5.004029 , 5.004026 , 5.0040245, 5.004024 ,\n",
       "       5.0040236, 5.0040245, 5.0040255, 5.0040264, 5.0040274, 5.0040274,\n",
       "       5.0040283, 5.0040283, 5.0040283, 5.004029 , 5.004028 , 5.0040274,\n",
       "       5.004027 , 5.0040264, 5.0040255, 5.004025 , 5.0040245, 5.0040245,\n",
       "       5.0040245, 5.004024 , 5.0040236, 5.0040236, 5.0040245, 5.0040245,\n",
       "       5.0040245, 5.0040245, 5.0040245, 5.0040245, 5.0040245, 5.0040245,\n",
       "       5.004024 , 5.0040245, 5.0040245, 5.0040245, 5.004024 , 5.004024 ,\n",
       "       5.004024 , 5.004024 , 5.0040236, 5.0040245, 5.004024 , 5.004024 ,\n",
       "       5.0040245, 5.0040236, 5.004024 , 5.004024 , 5.0040245, 5.0040245,\n",
       "       5.0040245, 5.0040245, 5.0040236, 5.0040245, 5.0040236, 5.0040236,\n",
       "       5.0040236, 5.0040236, 5.0040236, 5.004024 , 5.0040236, 5.004024 ,\n",
       "       5.004024 , 5.0040236, 5.0040236, 5.0040236, 5.0040245, 5.004024 ,\n",
       "       5.0040245, 5.0040236, 5.004024 , 5.0040245, 5.004024 , 5.0040236,\n",
       "       5.0040245, 5.0040236, 5.0040236, 5.004024 , 5.0040236, 5.004024 ,\n",
       "       5.0040236, 5.0040245, 5.004024 , 5.0040236, 5.0040236, 5.004024 ,\n",
       "       5.0040245, 5.004024 , 5.004024 , 5.0040236, 5.0040236, 5.0040245,\n",
       "       5.004024 , 5.004024 , 5.0040236, 5.004024 , 5.004024 , 5.004024 ,\n",
       "       5.0040245, 5.0040236, 5.0040236, 5.0040236, 5.0040245, 5.0040245,\n",
       "       5.0040245, 5.0040236, 5.004024 , 5.004024 , 5.0040245, 5.0040236,\n",
       "       5.004024 , 5.0040245, 5.0040245, 5.004024 , 5.0040236, 5.004024 ,\n",
       "       5.004024 , 5.004024 , 5.004024 , 5.0040245, 5.0040236, 5.0040245,\n",
       "       5.0040245, 5.0040245, 5.004024 , 5.0040245, 5.0040236, 5.004024 ,\n",
       "       5.004024 , 5.004024 , 5.0040236, 5.0040236, 5.0040236, 5.0040236,\n",
       "       5.0040236, 5.0040236, 5.0040236, 5.0040236, 5.0040245, 5.004024 ,\n",
       "       5.004024 , 5.004024 , 5.004024 , 5.0040236, 5.0040236, 5.0040245,\n",
       "       5.0040245, 5.0040245, 5.0040245, 5.0040245, 5.0040245, 5.0040245,\n",
       "       5.0040245, 5.0040245, 5.0040245, 5.0040236, 5.0040236, 5.0040236,\n",
       "       5.0040236, 5.004024 , 5.004024 , 5.004024 , 5.004024 , 5.004024 ,\n",
       "       5.004024 , 5.004024 , 5.004024 , 5.004024 , 5.004024 , 5.004024 ,\n",
       "       5.004024 , 5.0040236, 5.0040236, 5.0040236, 5.0040236, 5.0040236,\n",
       "       5.0040236, 5.0040236, 5.0040236, 5.0040236, 5.0040236, 5.0040236,\n",
       "       5.0040236, 5.0040236, 5.0040236, 5.004024 , 5.004024 , 5.004024 ,\n",
       "       5.004024 , 5.004024 , 5.004024 , 5.004024 , 5.004024 , 5.004024 ,\n",
       "       5.004024 , 5.004024 , 5.004024 , 5.004024 , 5.004024 , 5.004024 ,\n",
       "       5.004024 , 5.004024 , 5.004024 , 5.004024 , 5.004024 , 5.004024 ,\n",
       "       5.004024 , 5.004024 , 5.004024 , 5.004024 , 5.004024 , 5.004024 ,\n",
       "       5.004024 , 5.004024 , 5.0040236, 5.0040236, 5.0040236, 5.0040236,\n",
       "       5.0040236, 5.0040236, 5.0040236, 5.0040236, 5.0040236, 5.0040236,\n",
       "       5.0040236, 5.0040236, 5.004024 , 5.004024 , 5.004024 , 5.004024 ,\n",
       "       5.004024 , 5.004024 , 5.004024 , 5.004024 , 5.004024 , 5.004024 ,\n",
       "       5.004024 , 5.004024 , 5.004024 , 5.004024 , 5.004024 , 5.004024 ,\n",
       "       5.004024 , 5.004024 , 5.004024 , 5.004024 , 5.004024 , 5.004024 ,\n",
       "       5.004024 , 5.004024 , 5.004024 , 5.0040236, 5.0040236, 5.0040236,\n",
       "       5.0040236, 5.0040236, 5.0040236, 5.0040236, 5.0040236, 5.0040236,\n",
       "       5.0040236, 5.0040236, 5.004024 , 5.004024 , 5.004024 , 5.004024 ,\n",
       "       5.004024 , 5.004024 , 5.004024 , 5.004024 , 5.004024 , 5.004024 ,\n",
       "       5.004024 , 5.004024 , 5.004024 , 5.004024 , 5.004024 , 5.004024 ,\n",
       "       5.004024 , 5.004024 , 5.004024 , 5.004024 , 5.004024 , 5.004024 ,\n",
       "       5.0040236, 5.0040236, 5.0040236, 5.0040236, 5.0040236, 5.0040236,\n",
       "       5.0040236, 5.0040236, 5.0040236, 5.0040236, 5.004024 , 5.004024 ,\n",
       "       5.004024 , 5.004024 , 5.004024 , 5.004024 , 5.004024 , 5.004024 ,\n",
       "       5.004024 , 5.004024 , 5.004024 , 5.004024 , 5.004024 , 5.004024 ,\n",
       "       5.004024 , 5.004024 , 5.004024 , 5.004024 , 5.004024 , 5.004024 ,\n",
       "       5.0040236, 5.0040236, 5.0040236, 5.0040236, 5.0040236, 5.0040236,\n",
       "       5.0040236, 5.0040236, 5.0040236, 5.0040236, 5.004024 , 5.004024 ,\n",
       "       5.004024 , 5.004024 , 5.004024 , 5.004024 , 5.004024 , 5.004024 ,\n",
       "       5.004024 , 5.004024 , 5.004024 , 5.004024 , 5.004024 , 5.004024 ,\n",
       "       5.004024 , 5.004024 , 5.004024 , 5.004024 , 5.004024 , 5.0040236,\n",
       "       5.0040236, 5.0040236, 5.0040236, 5.0040236, 5.0040236, 5.0040236,\n",
       "       5.0040236, 5.0040236, 5.0040236, 5.004024 , 5.004024 , 5.004024 ,\n",
       "       5.004024 , 5.004024 , 5.004024 , 5.004024 , 5.004024 , 5.004024 ,\n",
       "       5.004024 , 5.004024 , 5.004024 , 5.004024 , 5.004024 , 5.004024 ,\n",
       "       5.004024 , 5.004024 , 5.004024 , 5.0040236, 5.0040236, 5.0040236,\n",
       "       5.0040236, 5.0040236, 5.0040236, 5.0040236, 5.0040236, 5.0040236,\n",
       "       5.004024 , 5.004024 , 5.004024 , 5.004024 , 5.004024 , 5.004024 ,\n",
       "       5.004024 , 5.004024 , 5.004024 , 5.004024 , 5.004024 , 5.004024 ,\n",
       "       5.004024 , 5.004024 , 5.004024 , 5.004024 , 5.004024 , 5.0040236,\n",
       "       5.0040236, 5.0040236, 5.0040236, 5.0040236, 5.0040236, 5.0040236,\n",
       "       5.0040236, 5.0040236, 5.004024 , 5.004024 , 5.004024 , 5.004024 ,\n",
       "       5.004024 , 5.004024 , 5.004024 , 5.004024 , 5.004024 , 5.004024 ,\n",
       "       5.004024 , 5.004024 , 5.004024 , 5.004024 , 5.004024 , 5.004024 ,\n",
       "       5.0040236, 5.0040236, 5.0040236, 5.0040236, 5.0040236, 5.0040236,\n",
       "       5.0040236, 5.0040236, 5.0040236, 5.004024 , 5.004024 , 5.004024 ,\n",
       "       5.004024 , 5.004024 , 5.004024 , 5.004024 , 5.004024 , 5.004024 ,\n",
       "       5.004024 , 5.004024 , 5.004024 , 5.004024 , 5.004024 , 5.004024 ,\n",
       "       5.004024 , 5.0040236, 5.0040236, 5.0040236, 5.0040236, 5.0040236,\n",
       "       5.0040236, 5.0040236, 5.0040236, 5.004024 , 5.004024 , 5.004024 ,\n",
       "       5.004024 , 5.004024 , 5.004024 , 5.004024 , 5.004024 , 5.004024 ,\n",
       "       5.004024 , 5.004024 , 5.004024 , 5.004024 , 5.004024 , 5.004024 ,\n",
       "       5.0040236, 5.0040236, 5.0040236, 5.0040236, 5.0040236, 5.0040236,\n",
       "       5.0040236, 5.0040236, 5.004024 , 5.004024 , 5.004024 , 5.004024 ,\n",
       "       5.004024 , 5.004024 , 5.004024 , 5.004024 , 5.004024 , 5.004024 ,\n",
       "       5.004024 , 5.004024 , 5.004024 , 5.004024 , 5.0040236, 5.0040236,\n",
       "       5.0040236, 5.0040236, 5.0040236, 5.0040236, 5.0040236, 5.0040236,\n",
       "       5.004024 , 5.004024 , 5.004024 , 5.004024 , 5.004024 , 5.004024 ,\n",
       "       5.004024 , 5.004024 , 5.004024 , 5.004024 , 5.004024 , 5.004024 ,\n",
       "       5.004024 , 5.004024 , 5.0040236, 5.0040236, 5.0040236, 5.0040236,\n",
       "       5.0040236, 5.0040236, 5.0040236, 5.0040236, 5.004024 , 5.004024 ,\n",
       "       5.004024 , 5.004024 , 5.004024 , 5.004024 , 5.004024 , 5.004024 ,\n",
       "       5.004024 , 5.004024 , 5.004024 , 5.004024 , 5.004024 , 5.004024 ,\n",
       "       5.0040236, 5.0040236, 5.0040236, 5.0040236, 5.0040236, 5.0040236,\n",
       "       5.0040236, 5.0040236, 5.004024 , 5.004024 , 5.004024 , 5.004024 ,\n",
       "       5.004024 , 5.004024 , 5.004024 , 5.004024 , 5.004024 , 5.004024 ,\n",
       "       5.004024 , 5.004024 , 5.004024 , 5.004024 , 5.0040236, 5.0040236,\n",
       "       5.0040236, 5.0040236, 5.0040236, 5.0040236, 5.0040236, 5.004024 ,\n",
       "       5.004024 , 5.004024 , 5.004024 , 5.004024 , 5.004024 , 5.004024 ,\n",
       "       5.004024 , 5.004024 , 5.004024 , 5.004024 , 5.004024 , 5.004024 ,\n",
       "       5.0040236, 5.0040236, 5.0040236, 5.0040236, 5.0040236, 5.0040236,\n",
       "       5.0040236, 5.004024 , 5.004024 , 5.004024 , 5.004024 , 5.004024 ,\n",
       "       5.004024 , 5.004024 , 5.004024 , 5.004024 , 5.004024 , 5.004024 ,\n",
       "       5.004024 , 5.0040236, 5.0040236, 5.0040236, 5.0040236, 5.0040236,\n",
       "       5.0040236, 5.0040236, 5.004024 , 5.004024 , 5.004024 , 5.004024 ,\n",
       "       5.004024 , 5.004024 , 5.004024 , 5.004024 , 5.004024 , 5.004024 ,\n",
       "       5.004024 , 5.004024 , 5.0040236, 5.0040236, 5.0040236, 5.0040236,\n",
       "       5.0040236, 5.0040236, 5.0040236, 5.004024 , 5.004024 , 5.004024 ,\n",
       "       5.004024 , 5.004024 , 5.004024 , 5.004024 , 5.004024 , 5.004024 ,\n",
       "       5.004024 , 5.004024 , 5.004024 , 5.0040236, 5.0040236, 5.0040236,\n",
       "       5.0040236, 5.0040236, 5.0040236, 5.0040236, 5.004024 , 5.004024 ,\n",
       "       5.004024 , 5.004024 , 5.004024 , 5.004024 , 5.004024 , 5.004024 ,\n",
       "       5.004024 , 5.004024 , 5.004024 , 5.004024 , 5.0040236, 5.0040236,\n",
       "       5.0040236, 5.0040236, 5.0040236, 5.0040236, 5.0040236, 5.004024 ,\n",
       "       5.004024 , 5.004024 , 5.004024 , 5.004024 , 5.004024 , 5.004024 ,\n",
       "       5.004024 , 5.004024 , 5.004024 , 5.004024 , 5.004024 , 5.0040236,\n",
       "       5.0040236, 5.0040236, 5.0040236, 5.0040236, 5.0040236, 5.0040236,\n",
       "       5.004024 , 5.004024 , 5.004024 , 5.004024 , 5.004024 , 5.004024 ,\n",
       "       5.004024 , 5.004024 , 5.004024 , 5.004024 , 5.004024 , 5.004024 ,\n",
       "       5.0040236, 5.0040236, 5.0040236, 5.0040236, 5.0040236, 5.0040236,\n",
       "       5.0040236, 5.004024 , 5.004024 , 5.004024 , 5.004024 , 5.004024 ,\n",
       "       5.004024 , 5.004024 , 5.004024 , 5.004024 , 5.004024 , 5.004024 ,\n",
       "       5.004024 , 5.0040236, 5.0040236, 5.0040236, 5.0040236, 5.0040236,\n",
       "       5.0040236, 5.0040236, 5.004024 , 5.004024 , 5.004024 , 5.004024 ,\n",
       "       5.004024 , 5.004024 , 5.004024 , 5.004024 , 5.004024 , 5.004024 ,\n",
       "       5.004024 , 5.0040236, 5.0040236, 5.0040236, 5.0040236, 5.0040236,\n",
       "       5.0040236, 5.004024 , 5.004024 , 5.004024 , 5.004024 , 5.004024 ,\n",
       "       5.004024 , 5.004024 , 5.004024 , 5.004024 , 5.004024 , 5.004024 ,\n",
       "       5.0040236, 5.0040236, 5.0040236, 5.0040236, 5.0040236, 5.0040236,\n",
       "       5.004024 , 5.004024 , 5.004024 , 5.004024 , 5.004024 , 5.004024 ,\n",
       "       5.004024 , 5.004024 , 5.004024 , 5.004024 , 5.0040236, 5.0040236,\n",
       "       5.0040236, 5.0040236, 5.0040236, 5.0040236, 5.004024 , 5.004024 ,\n",
       "       5.004024 , 5.004024 , 5.004024 , 5.004024 , 5.004024 , 5.004024 ,\n",
       "       5.004024 , 5.004024 , 5.004024 , 5.0040236, 5.0040236, 5.0040236,\n",
       "       5.0040236, 5.0040236, 5.0040236, 5.004024 , 5.004024 , 5.004024 ,\n",
       "       5.004024 , 5.004024 , 5.004024 , 5.004024 , 5.004024 , 5.004024 ,\n",
       "       5.004024 , 5.0040236, 5.0040236, 5.0040236, 5.0040236, 5.0040236,\n",
       "       5.0040236, 5.004024 , 5.004024 , 5.004024 , 5.004024 , 5.004024 ,\n",
       "       5.004024 , 5.004024 , 5.004024 , 5.004024 , 5.004024 , 5.0040236,\n",
       "       5.0040236, 5.0040236, 5.0040236, 5.0040236, 5.0040236, 5.004024 ,\n",
       "       5.004024 , 5.004024 , 5.004024 , 5.004024 , 5.004024 , 5.004024 ,\n",
       "       5.004024 , 5.004024 , 5.004024 , 5.0040236, 5.0040236, 5.0040236,\n",
       "       5.0040236, 5.0040236, 5.0040236, 5.004024 , 5.004024 , 5.004024 ,\n",
       "       5.004024 , 5.004024 , 5.004024 , 5.004024 , 5.004024 , 5.004024 ,\n",
       "       5.004024 , 5.0040236, 5.0040236, 5.0040236, 5.0040236, 5.0040236,\n",
       "       5.0040236, 5.004024 , 5.004024 , 5.004024 , 5.004024 , 5.004024 ,\n",
       "       5.004024 , 5.004024 , 5.004024 , 5.004024 , 5.004024 , 5.0040236,\n",
       "       5.0040236, 5.0040236, 5.0040236, 5.0040236, 5.0040236, 5.004024 ,\n",
       "       5.004024 , 5.004024 , 5.004024 , 5.004024 , 5.004024 , 5.004024 ,\n",
       "       5.004024 , 5.004024 , 5.004024 , 5.0040236, 5.0040236, 5.0040236,\n",
       "       5.0040236, 5.0040236, 5.0040236, 5.004024 , 5.004024 , 5.004024 ,\n",
       "       5.004024 , 5.004024 , 5.004024 , 5.004024 ], dtype=float32)>"
      ]
     },
     "execution_count": 10,
     "metadata": {},
     "output_type": "execute_result"
    }
   ],
   "source": [
    "tfp.math.minimize(loss_fn=neg_log_likelihood, optimizer=tf.optimizers.Adam(learning_rate=0.1), num_steps=100)"
   ]
  },
  {
   "cell_type": "code",
   "execution_count": 22,
   "metadata": {},
   "outputs": [
    {
     "name": "stdout",
     "output_type": "stream",
     "text": [
      "The estimate of the probability for weather being good:  0.79999995\n"
     ]
    }
   ],
   "source": [
    "print(\"The estimate for good weather: \", weather_theta.numpy())"
   ]
  },
  {
   "attachments": {},
   "cell_type": "markdown",
   "metadata": {},
   "source": [
    "### 2. Normal distribution and probabilistic regression\n",
    "\n",
    "Ok, now lets look into regression from a probabilistic perspective. \n",
    "\n",
    "<img src=\"imgs/ProbabilisticRegression.png\" width=\"800\" height=\"400\">\n",
    "\n"
   ]
  },
  {
   "cell_type": "code",
   "execution_count": null,
   "metadata": {},
   "outputs": [],
   "source": [
    "plot_fake_probabilistic_regression_model(number_of_models=10)"
   ]
  },
  {
   "cell_type": "code",
   "execution_count": null,
   "metadata": {},
   "outputs": [],
   "source": []
  }
 ],
 "metadata": {
  "kernelspec": {
   "display_name": "tensorflow-gpu",
   "language": "python",
   "name": "python3"
  },
  "language_info": {
   "codemirror_mode": {
    "name": "ipython",
    "version": 3
   },
   "file_extension": ".py",
   "mimetype": "text/x-python",
   "name": "python",
   "nbconvert_exporter": "python",
   "pygments_lexer": "ipython3",
   "version": "3.10.9"
  },
  "orig_nbformat": 4,
  "vscode": {
   "interpreter": {
    "hash": "0554e41422f5ab078479787e3a8aaeb4435ba9a2da8d7f141c9ca3cc311dd873"
   }
  }
 },
 "nbformat": 4,
 "nbformat_minor": 2
}
