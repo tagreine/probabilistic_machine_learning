{
 "cells": [
  {
   "cell_type": "code",
   "execution_count": 1,
   "metadata": {},
   "outputs": [],
   "source": [
    "import random\n",
    "import numpy as np\n",
    "import matplotlib.pyplot as plt"
   ]
  },
  {
   "cell_type": "code",
   "execution_count": 2,
   "metadata": {},
   "outputs": [],
   "source": [
    "# weather example with Markov Chains and Monte Carlo simulation\n",
    "\n",
    "# define the Markov probabilities (R - rainy, R1 - rainy day today R2 - rainy the next day, S - sunny, S1 ....)\n",
    "P_S2_R1 = 0.5 # probability of sunny the next day when raining today\n",
    "P_R2_R1 = 0.5 # probability of rainy the next day when raining today\n",
    "P_S2_S1 = 0.9 # probability of sunny the next day when sunny today\n",
    "P_R2_S1 = 0.1 # probability of rainy the next day when sunny today\n",
    "\n",
    "# want to find P(S) and P(R), from the Markov probabilities we can create Markov chains by Monte Carlo sampling"
   ]
  },
  {
   "cell_type": "code",
   "execution_count": 36,
   "metadata": {},
   "outputs": [
    {
     "name": "stdout",
     "output_type": "stream",
     "text": [
      "0.82985 0.17015000000000002\n"
     ]
    }
   ],
   "source": [
    "# start with some initial state where R1 and S1 are equal probability\n",
    "\n",
    "# define an empty chain (R = 0, S = 1)\n",
    "MC = [round(random.uniform(0, 1))]\n",
    "nSamples = 20000\n",
    "for i in range(nSamples):\n",
    "\n",
    "    # draw a sample from a unform distribution\n",
    "    r = random.uniform(0, 1)\n",
    "\n",
    "    # if the current sample is S (1) then with 90-10 of being S-R\n",
    "    if MC[i] == 1: # sun\n",
    "        if r <= P_R2_S1: # 0.1\n",
    "            MC.append(0)\n",
    "        else:\n",
    "            # P_S2_S1 0.9\n",
    "            MC.append(1)\n",
    "    # if the current sample is R (0) then with 50-50 of being S-R\n",
    "    if MC[i] == 0: # rain\n",
    "        if r <= P_R2_R1: # 0.5\n",
    "            MC.append(0)\n",
    "        else:\n",
    "            # P_S2_R1 0.5\n",
    "            MC.append(1)\n",
    "\n",
    "#print(MC)\n",
    "print(sum(MC) / nSamples, 1 - sum(MC) / nSamples)\n",
    "\n",
    "\n"
   ]
  },
  {
   "cell_type": "code",
   "execution_count": 83,
   "metadata": {},
   "outputs": [
    {
     "name": "stdout",
     "output_type": "stream",
     "text": [
      "[[0.9 0.5]\n",
      " [0.1 0.5]] Transition from Column to row\n"
     ]
    }
   ],
   "source": [
    "# Markov transition matrix\n",
    "\n",
    "A = np.array([[0.9, 0.5], [0.1, 0.5]])\n",
    "print(A, \"Transition from Column to row\")\n",
    "\n"
   ]
  },
  {
   "cell_type": "code",
   "execution_count": 84,
   "metadata": {},
   "outputs": [
    {
     "name": "stdout",
     "output_type": "stream",
     "text": [
      "[0.83333333 0.16666667]\n",
      "[[0.83333333 0.83333333]\n",
      " [0.16666667 0.16666667]]\n"
     ]
    }
   ],
   "source": [
    "def markovTransitionProbability(matrix, initialState, convergenceSensitivity=1e-8, maxNumberOfTransitions=100):\n",
    "    tmp = matrix\n",
    "\n",
    "    for _ in range(maxNumberOfTransitions):\n",
    "        \n",
    "        matrix = matrix.dot(matrix)\n",
    "        if np.linalg.norm(tmp - matrix) < convergenceSensitivity:\n",
    "            break\n",
    "        tmp = matrix\n",
    "\n",
    "    return matrix.dot(initialState), matrix\n",
    "    #return matrix.dot(initialState)\n",
    "\n",
    "s, T = markovTransitionProbability(matrix=A, initialState=np.array([1, 0]).T, maxNumberOfTransitions=55)\n",
    "\n",
    "print(s)\n",
    "print(T)"
   ]
  },
  {
   "cell_type": "code",
   "execution_count": 96,
   "metadata": {},
   "outputs": [
    {
     "data": {
      "text/plain": [
       "array([0.57692308, 0.11538462])"
      ]
     },
     "execution_count": 96,
     "metadata": {},
     "output_type": "execute_result"
    }
   ],
   "source": [
    "np.linalg.pinv(T.T).dot(s)"
   ]
  },
  {
   "cell_type": "code",
   "execution_count": 97,
   "metadata": {},
   "outputs": [
    {
     "data": {
      "text/plain": [
       "array([[0.72222222, 0.72222222],\n",
       "       [0.72222222, 0.72222222]])"
      ]
     },
     "execution_count": 97,
     "metadata": {},
     "output_type": "execute_result"
    }
   ],
   "source": [
    "T.T.dot(T)"
   ]
  },
  {
   "cell_type": "code",
   "execution_count": null,
   "metadata": {},
   "outputs": [],
   "source": []
  }
 ],
 "metadata": {
  "interpreter": {
   "hash": "b7e9e639d5d77360a1ed04ab3f3457ee2832b076582e5c1c50d28849ba937dcd"
  },
  "kernelspec": {
   "display_name": "Python 3.10.4 ('acc-datasc')",
   "language": "python",
   "name": "python3"
  },
  "language_info": {
   "codemirror_mode": {
    "name": "ipython",
    "version": 3
   },
   "file_extension": ".py",
   "mimetype": "text/x-python",
   "name": "python",
   "nbconvert_exporter": "python",
   "pygments_lexer": "ipython3",
   "version": "3.10.4"
  },
  "orig_nbformat": 4
 },
 "nbformat": 4,
 "nbformat_minor": 2
}
