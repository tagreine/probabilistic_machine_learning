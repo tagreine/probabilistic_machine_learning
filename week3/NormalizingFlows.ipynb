{
 "cells": [
  {
   "cell_type": "code",
   "execution_count": 91,
   "metadata": {},
   "outputs": [
    {
     "name": "stdout",
     "output_type": "stream",
     "text": [
      "0.12.2\n"
     ]
    }
   ],
   "source": [
    "import numpy as np\n",
    "from sklearn import datasets\n",
    "from sklearn.preprocessing import StandardScaler\n",
    "import matplotlib.pyplot as plt\n",
    "import tensorflow_probability as tfp\n",
    "\n",
    "tfd = tfp.distributions\n",
    "tfb = tfp.bijectors\n",
    "tfpl = tfp.layers\n",
    "\n",
    "print(tfp.__version__)"
   ]
  },
  {
   "cell_type": "code",
   "execution_count": 4,
   "metadata": {},
   "outputs": [],
   "source": [
    "n_samples = 1000\n",
    "noisy_moons = datasets.make_moons(n_samples=n_samples)\n",
    "X, y = noisy_moons\n",
    "X_data = StandardScaler().fit_transform(X)\n",
    "xlim, ylim = [-2, 2], [-2, 2]"
   ]
  },
  {
   "cell_type": "code",
   "execution_count": 23,
   "metadata": {},
   "outputs": [
    {
     "name": "stderr",
     "output_type": "stream",
     "text": [
      "/var/folders/vf/5n8g0z2n3rngl6zxbtg87x3r0000gn/T/ipykernel_8204/2438361541.py:1: DeprecationWarning: `np.bool` is a deprecated alias for the builtin `bool`. To silence this warning, use `bool` by itself. Doing this will not modify any behavior and is safe. If you specifically wanted the numpy scalar type, use `np.bool_` here.\n",
      "Deprecated in NumPy 1.20; for more details and guidance: https://numpy.org/devdocs/release/1.20.0-notes.html#deprecations\n",
      "  y_label = y.astype(np.bool)\n"
     ]
    },
    {
     "data": {
      "text/plain": [
       "(-2.0, 2.0)"
      ]
     },
     "execution_count": 23,
     "metadata": {},
     "output_type": "execute_result"
    },
    {
     "data": {
      "image/png": "[encoded data removed]",
      "text/plain": [
       "<Figure size 432x288 with 1 Axes>"
      ]
     },
     "metadata": {
      "needs_background": "light"
     },
     "output_type": "display_data"
    }
   ],
   "source": [
    "y_label = y.astype(np.bool)\n",
    "X_train, Y_train = X_data[..., 0], X_data[..., 1]\n",
    "plt.scatter(X_train[y_label], Y_train[y_label], s=10, color='blue')\n",
    "plt.scatter(X_train[y_label == False], Y_train[y_label == False], s=10, color='red')\n",
    "plt.legend(['label: 1', 'label: 0'])\n",
    "plt.xlim(xlim)\n",
    "plt.ylim(ylim)"
   ]
  },
  {
   "cell_type": "code",
   "execution_count": 26,
   "metadata": {},
   "outputs": [
    {
     "name": "stdout",
     "output_type": "stream",
     "text": [
      "Metal device set to: Apple M1\n",
      "\n",
      "systemMemory: 16.00 GB\n",
      "maxCacheSize: 5.33 GB\n",
      "\n"
     ]
    },
    {
     "name": "stderr",
     "output_type": "stream",
     "text": [
      "2022-05-24 20:38:38.682721: I tensorflow/core/common_runtime/pluggable_device/pluggable_device_factory.cc:305] Could not identify NUMA node of platform GPU ID 0, defaulting to 0. Your kernel may not have been built with NUMA support.\n",
      "2022-05-24 20:38:38.682912: I tensorflow/core/common_runtime/pluggable_device/pluggable_device_factory.cc:271] Created TensorFlow device (/job:localhost/replica:0/task:0/device:GPU:0 with 0 MB memory) -> physical PluggableDevice (device: 0, name: METAL, pci bus id: <undefined>)\n"
     ]
    }
   ],
   "source": [
    "# define base distribution \n",
    "base_distribution = tfd.Normal(loc=0., scale=1.)"
   ]
  },
  {
   "cell_type": "code",
   "execution_count": 28,
   "metadata": {},
   "outputs": [
    {
     "data": {
      "text/plain": [
       "<tf.Tensor: shape=(1,), dtype=float32, numpy=array([2.3881888], dtype=float32)>"
      ]
     },
     "execution_count": 28,
     "metadata": {},
     "output_type": "execute_result"
    }
   ],
   "source": [
    "base_distribution.sample(1)"
   ]
  },
  {
   "cell_type": "code",
   "execution_count": 93,
   "metadata": {},
   "outputs": [],
   "source": [
    "# define the trainable distribution\n",
    "\n",
    "def make_masked_autoregressive_flow(hidden_units=[16, 16], activation='relu'):\n",
    "    # use the buildt in autoregressive network in tensorflow\n",
    "    made = tfb.AutoregressiveNetwork(\n",
    "        params=2, event_shape=[2], hidden_units=hidden_units, activation=activation)\n",
    "    return tfb.MaskedAutoregressiveFlow(shift_and_log_scale_fn=made)\n",
    "\n",
    "trainable_distribution = tfd.TransformedDistribution(tfd.Sample(base_distribution, sample_shape=[2]),\n",
    "                                                     make_masked_autoregressive_flow(),\n",
    "                                                     name='simple_gaussian')\n"
   ]
  },
  {
   "cell_type": "code",
   "execution_count": 50,
   "metadata": {},
   "outputs": [
    {
     "data": {
      "image/png": "[encoded data removed]",
      "text/plain": [
       "<Figure size 432x288 with 1 Axes>"
      ]
     },
     "metadata": {
      "needs_background": "light"
     },
     "output_type": "display_data"
    }
   ],
   "source": [
    "samples = base_distribution.sample(10000).numpy()\n",
    "plt.figure()\n",
    "plt.hist(samples, bins=50)\n",
    "plt.show()"
   ]
  },
  {
   "cell_type": "code",
   "execution_count": 43,
   "metadata": {},
   "outputs": [
    {
     "data": {
      "image/png": "[encoded data removed]",
      "text/plain": [
       "<Figure size 432x288 with 1 Axes>"
      ]
     },
     "metadata": {
      "needs_background": "light"
     },
     "output_type": "display_data"
    }
   ],
   "source": [
    "samples = base_distribution.sample(10000)\n",
    "log_samples = base_distribution.log_prob(samples).numpy()\n",
    "plt.figure()\n",
    "plt.hist(log_samples, bins=50, density=True)\n",
    "plt.show()"
   ]
  },
  {
   "cell_type": "code",
   "execution_count": 57,
   "metadata": {},
   "outputs": [
    {
     "data": {
      "text/plain": [
       "(5, 5, 2)"
      ]
     },
     "execution_count": 57,
     "metadata": {},
     "output_type": "execute_result"
    }
   ],
   "source": [
    "\n",
    "a = np.arange(5)\n",
    "b = np.arange(5)\n",
    "\n",
    "A, B = np.meshgrid(a, b)\n",
    "C = np.dstack((A, B))\n",
    "C.shape"
   ]
  },
  {
   "cell_type": "code",
   "execution_count": 51,
   "metadata": {},
   "outputs": [],
   "source": [
    "from mpl_toolkits.axes_grid1 import make_axes_locatable\n",
    "from tensorflow.compat.v1 import logging\n",
    "logging.set_verbosity(logging.ERROR)"
   ]
  },
  {
   "cell_type": "code",
   "execution_count": 119,
   "metadata": {},
   "outputs": [],
   "source": [
    "def plot_contour_plot(dist, rows=1, title=[''], scale_fig=4):\n",
    "    cols = int(len(dist) / rows)\n",
    "    xx = np.linspace(-5.0 , 5.0, 100)\n",
    "    yy = np.linspace(-5.0 , 5.0, 100)\n",
    "    X, Y = np.meshgrid(xx, yy)\n",
    "\n",
    "    fig, ax = plt.subplots(rows, cols, figsize=(scale_fig * cols, scale_fig * rows))\n",
    "    fig.tight_layout(pad=4.5)\n",
    "    \n",
    "    i = 0\n",
    "    for r in range(rows):\n",
    "        for c in range(cols):\n",
    "            Z = dist[i].prob(np.dstack((X, Y)))\n",
    "                 \n",
    "            if len(dist) == 1:\n",
    "                axi = ax\n",
    "            elif rows == 1:\n",
    "                axi = ax[c]\n",
    "            else:\n",
    "                axi = ax[r, c]\n",
    "            \n",
    "            # plot contour\n",
    "            p = axi.contourf(X, Y, Z)\n",
    "\n",
    "            divider = make_axes_locatable(axi)\n",
    "            cax = divider.append_axes(\"right\", size=\"5%\", pad=0.1)\n",
    "            cbar = fig.colorbar(p, cax=cax)\n",
    "            \n",
    "            # set title and labels\n",
    "            axi.set_title('Filled Contours Plot: ' + str(title[i]))\n",
    "            axi.set_xlabel('x')\n",
    "            axi.set_ylabel('y')\n",
    "            print(i)\n",
    "            i += 1\n",
    "\n",
    "    plt.show()\n"
   ]
  },
  {
   "cell_type": "code",
   "execution_count": 120,
   "metadata": {},
   "outputs": [
    {
     "ename": "ValueError",
     "evalue": "Input is neither scalar nor vector.",
     "output_type": "error",
     "traceback": [
      "\u001b[0;31m---------------------------------------------------------------------------\u001b[0m",
      "\u001b[0;31mValueError\u001b[0m                                Traceback (most recent call last)",
      "\u001b[1;32m/Users/thomas.greiner/Library/CloudStorage/OneDrive-Accenture/Certifications/TF_prob/Normalizing_flows.ipynb Cell 12'\u001b[0m in \u001b[0;36m<cell line: 5>\u001b[0;34m()\u001b[0m\n\u001b[1;32m      <a href='vscode-notebook-cell:/Users/thomas.greiner/Library/CloudStorage/OneDrive-Accenture/Certifications/TF_prob/Normalizing_flows.ipynb#ch0000011?line=0'>1</a>\u001b[0m activation \u001b[39m=\u001b[39m \u001b[39m'\u001b[39m\u001b[39mrelu\u001b[39m\u001b[39m'\u001b[39m\n\u001b[1;32m      <a href='vscode-notebook-cell:/Users/thomas.greiner/Library/CloudStorage/OneDrive-Accenture/Certifications/TF_prob/Normalizing_flows.ipynb#ch0000011?line=1'>2</a>\u001b[0m maf \u001b[39m=\u001b[39m tfd\u001b[39m.\u001b[39mTransformedDistribution(tfd\u001b[39m.\u001b[39mSample(base_distribution, sample_shape\u001b[39m=\u001b[39m[\u001b[39m2\u001b[39m]),\n\u001b[1;32m      <a href='vscode-notebook-cell:/Users/thomas.greiner/Library/CloudStorage/OneDrive-Accenture/Certifications/TF_prob/Normalizing_flows.ipynb#ch0000011?line=2'>3</a>\u001b[0m                                   make_masked_autoregressive_flow(activation\u001b[39m=\u001b[39mactivation))\n\u001b[0;32m----> <a href='vscode-notebook-cell:/Users/thomas.greiner/Library/CloudStorage/OneDrive-Accenture/Certifications/TF_prob/Normalizing_flows.ipynb#ch0000011?line=4'>5</a>\u001b[0m plot_contour_plot([maf], scale_fig\u001b[39m=\u001b[39;49m\u001b[39m6\u001b[39;49m, title\u001b[39m=\u001b[39;49m[activation])\n",
      "\u001b[1;32m/Users/thomas.greiner/Library/CloudStorage/OneDrive-Accenture/Certifications/TF_prob/Normalizing_flows.ipynb Cell 11'\u001b[0m in \u001b[0;36mplot_contour_plot\u001b[0;34m(dist, rows, title, scale_fig)\u001b[0m\n\u001b[1;32m     <a href='vscode-notebook-cell:/Users/thomas.greiner/Library/CloudStorage/OneDrive-Accenture/Certifications/TF_prob/Normalizing_flows.ipynb#ch0000010?line=10'>11</a>\u001b[0m \u001b[39mfor\u001b[39;00m r \u001b[39min\u001b[39;00m \u001b[39mrange\u001b[39m(rows):\n\u001b[1;32m     <a href='vscode-notebook-cell:/Users/thomas.greiner/Library/CloudStorage/OneDrive-Accenture/Certifications/TF_prob/Normalizing_flows.ipynb#ch0000010?line=11'>12</a>\u001b[0m     \u001b[39mfor\u001b[39;00m c \u001b[39min\u001b[39;00m \u001b[39mrange\u001b[39m(cols):\n\u001b[0;32m---> <a href='vscode-notebook-cell:/Users/thomas.greiner/Library/CloudStorage/OneDrive-Accenture/Certifications/TF_prob/Normalizing_flows.ipynb#ch0000010?line=12'>13</a>\u001b[0m         Z \u001b[39m=\u001b[39m dist[i]\u001b[39m.\u001b[39;49msample(np\u001b[39m.\u001b[39;49mdstack((X, Y)))\n\u001b[1;32m     <a href='vscode-notebook-cell:/Users/thomas.greiner/Library/CloudStorage/OneDrive-Accenture/Certifications/TF_prob/Normalizing_flows.ipynb#ch0000010?line=14'>15</a>\u001b[0m         \u001b[39mif\u001b[39;00m \u001b[39mlen\u001b[39m(dist) \u001b[39m==\u001b[39m \u001b[39m1\u001b[39m:\n\u001b[1;32m     <a href='vscode-notebook-cell:/Users/thomas.greiner/Library/CloudStorage/OneDrive-Accenture/Certifications/TF_prob/Normalizing_flows.ipynb#ch0000010?line=15'>16</a>\u001b[0m             axi \u001b[39m=\u001b[39m ax\n",
      "File \u001b[0;32m~/miniforge3/envs/tensorflow-gpu/lib/python3.9/site-packages/tensorflow_probability/python/distributions/distribution.py:1002\u001b[0m, in \u001b[0;36mDistribution.sample\u001b[0;34m(self, sample_shape, seed, name, **kwargs)\u001b[0m\n\u001b[1;32m    <a href='file:///Users/thomas.greiner/miniforge3/envs/tensorflow-gpu/lib/python3.9/site-packages/tensorflow_probability/python/distributions/distribution.py?line=986'>987</a>\u001b[0m \u001b[39mdef\u001b[39;00m \u001b[39msample\u001b[39m(\u001b[39mself\u001b[39m, sample_shape\u001b[39m=\u001b[39m(), seed\u001b[39m=\u001b[39m\u001b[39mNone\u001b[39;00m, name\u001b[39m=\u001b[39m\u001b[39m'\u001b[39m\u001b[39msample\u001b[39m\u001b[39m'\u001b[39m, \u001b[39m*\u001b[39m\u001b[39m*\u001b[39mkwargs):\n\u001b[1;32m    <a href='file:///Users/thomas.greiner/miniforge3/envs/tensorflow-gpu/lib/python3.9/site-packages/tensorflow_probability/python/distributions/distribution.py?line=987'>988</a>\u001b[0m   \u001b[39m\"\"\"Generate samples of the specified shape.\u001b[39;00m\n\u001b[1;32m    <a href='file:///Users/thomas.greiner/miniforge3/envs/tensorflow-gpu/lib/python3.9/site-packages/tensorflow_probability/python/distributions/distribution.py?line=988'>989</a>\u001b[0m \n\u001b[1;32m    <a href='file:///Users/thomas.greiner/miniforge3/envs/tensorflow-gpu/lib/python3.9/site-packages/tensorflow_probability/python/distributions/distribution.py?line=989'>990</a>\u001b[0m \u001b[39m  Note that a call to `sample()` without arguments will generate a single\u001b[39;00m\n\u001b[0;32m   (...)\u001b[0m\n\u001b[1;32m   <a href='file:///Users/thomas.greiner/miniforge3/envs/tensorflow-gpu/lib/python3.9/site-packages/tensorflow_probability/python/distributions/distribution.py?line=999'>1000</a>\u001b[0m \u001b[39m    samples: a `Tensor` with prepended dimensions `sample_shape`.\u001b[39;00m\n\u001b[1;32m   <a href='file:///Users/thomas.greiner/miniforge3/envs/tensorflow-gpu/lib/python3.9/site-packages/tensorflow_probability/python/distributions/distribution.py?line=1000'>1001</a>\u001b[0m \u001b[39m  \"\"\"\u001b[39;00m\n\u001b[0;32m-> <a href='file:///Users/thomas.greiner/miniforge3/envs/tensorflow-gpu/lib/python3.9/site-packages/tensorflow_probability/python/distributions/distribution.py?line=1001'>1002</a>\u001b[0m   \u001b[39mreturn\u001b[39;00m \u001b[39mself\u001b[39;49m\u001b[39m.\u001b[39;49m_call_sample_n(sample_shape, seed, name, \u001b[39m*\u001b[39;49m\u001b[39m*\u001b[39;49mkwargs)\n",
      "File \u001b[0;32m~/miniforge3/envs/tensorflow-gpu/lib/python3.9/site-packages/tensorflow_probability/python/distributions/transformed_distribution.py:325\u001b[0m, in \u001b[0;36mTransformedDistribution._call_sample_n\u001b[0;34m(self, sample_shape, seed, name, **kwargs)\u001b[0m\n\u001b[1;32m    <a href='file:///Users/thomas.greiner/miniforge3/envs/tensorflow-gpu/lib/python3.9/site-packages/tensorflow_probability/python/distributions/transformed_distribution.py?line=321'>322</a>\u001b[0m \u001b[39mwith\u001b[39;00m \u001b[39mself\u001b[39m\u001b[39m.\u001b[39m_name_and_control_scope(name):\n\u001b[1;32m    <a href='file:///Users/thomas.greiner/miniforge3/envs/tensorflow-gpu/lib/python3.9/site-packages/tensorflow_probability/python/distributions/transformed_distribution.py?line=322'>323</a>\u001b[0m   sample_shape \u001b[39m=\u001b[39m ps\u001b[39m.\u001b[39mconvert_to_shape_tensor(\n\u001b[1;32m    <a href='file:///Users/thomas.greiner/miniforge3/envs/tensorflow-gpu/lib/python3.9/site-packages/tensorflow_probability/python/distributions/transformed_distribution.py?line=323'>324</a>\u001b[0m       sample_shape, dtype\u001b[39m=\u001b[39mtf\u001b[39m.\u001b[39mint32, name\u001b[39m=\u001b[39m\u001b[39m'\u001b[39m\u001b[39msample_shape\u001b[39m\u001b[39m'\u001b[39m)\n\u001b[0;32m--> <a href='file:///Users/thomas.greiner/miniforge3/envs/tensorflow-gpu/lib/python3.9/site-packages/tensorflow_probability/python/distributions/transformed_distribution.py?line=324'>325</a>\u001b[0m   sample_shape, n \u001b[39m=\u001b[39m \u001b[39mself\u001b[39;49m\u001b[39m.\u001b[39;49m_expand_sample_shape_to_vector(\n\u001b[1;32m    <a href='file:///Users/thomas.greiner/miniforge3/envs/tensorflow-gpu/lib/python3.9/site-packages/tensorflow_probability/python/distributions/transformed_distribution.py?line=325'>326</a>\u001b[0m       sample_shape, \u001b[39m'\u001b[39;49m\u001b[39msample_shape\u001b[39;49m\u001b[39m'\u001b[39;49m)\n\u001b[1;32m    <a href='file:///Users/thomas.greiner/miniforge3/envs/tensorflow-gpu/lib/python3.9/site-packages/tensorflow_probability/python/distributions/transformed_distribution.py?line=327'>328</a>\u001b[0m   distribution_kwargs, bijector_kwargs \u001b[39m=\u001b[39m \u001b[39mself\u001b[39m\u001b[39m.\u001b[39m_kwargs_split_fn(kwargs)\n\u001b[1;32m    <a href='file:///Users/thomas.greiner/miniforge3/envs/tensorflow-gpu/lib/python3.9/site-packages/tensorflow_probability/python/distributions/transformed_distribution.py?line=329'>330</a>\u001b[0m   \u001b[39m# First, generate samples from the base distribution.\u001b[39;00m\n",
      "File \u001b[0;32m~/miniforge3/envs/tensorflow-gpu/lib/python3.9/site-packages/tensorflow_probability/python/distributions/distribution.py:1571\u001b[0m, in \u001b[0;36mDistribution._expand_sample_shape_to_vector\u001b[0;34m(self, x, name)\u001b[0m\n\u001b[1;32m   <a href='file:///Users/thomas.greiner/miniforge3/envs/tensorflow-gpu/lib/python3.9/site-packages/tensorflow_probability/python/distributions/distribution.py?line=1568'>1569</a>\u001b[0m \u001b[39m\"\"\"Helper to `sample` which ensures input is 1D.\"\"\"\u001b[39;00m\n\u001b[1;32m   <a href='file:///Users/thomas.greiner/miniforge3/envs/tensorflow-gpu/lib/python3.9/site-packages/tensorflow_probability/python/distributions/distribution.py?line=1569'>1570</a>\u001b[0m prod \u001b[39m=\u001b[39m ps\u001b[39m.\u001b[39mreduce_prod(x)\n\u001b[0;32m-> <a href='file:///Users/thomas.greiner/miniforge3/envs/tensorflow-gpu/lib/python3.9/site-packages/tensorflow_probability/python/distributions/distribution.py?line=1570'>1571</a>\u001b[0m x \u001b[39m=\u001b[39m distribution_util\u001b[39m.\u001b[39;49mexpand_to_vector(x, tensor_name\u001b[39m=\u001b[39;49mname)\n\u001b[1;32m   <a href='file:///Users/thomas.greiner/miniforge3/envs/tensorflow-gpu/lib/python3.9/site-packages/tensorflow_probability/python/distributions/distribution.py?line=1571'>1572</a>\u001b[0m \u001b[39mreturn\u001b[39;00m x, prod\n",
      "File \u001b[0;32m~/miniforge3/envs/tensorflow-gpu/lib/python3.9/site-packages/tensorflow_probability/python/internal/distribution_util.py:1421\u001b[0m, in \u001b[0;36mexpand_to_vector\u001b[0;34m(x, tensor_name, op_name, validate_args)\u001b[0m\n\u001b[1;32m   <a href='file:///Users/thomas.greiner/miniforge3/envs/tensorflow-gpu/lib/python3.9/site-packages/tensorflow_probability/python/internal/distribution_util.py?line=1416'>1417</a>\u001b[0m   \u001b[39mreturn\u001b[39;00m ps\u001b[39m.\u001b[39mconvert_to_shape_tensor(\n\u001b[1;32m   <a href='file:///Users/thomas.greiner/miniforge3/envs/tensorflow-gpu/lib/python3.9/site-packages/tensorflow_probability/python/internal/distribution_util.py?line=1417'>1418</a>\u001b[0m       ps\u001b[39m.\u001b[39mreshape(x_orig, [\u001b[39m1\u001b[39m]), name\u001b[39m=\u001b[39mtensor_name)\n\u001b[1;32m   <a href='file:///Users/thomas.greiner/miniforge3/envs/tensorflow-gpu/lib/python3.9/site-packages/tensorflow_probability/python/internal/distribution_util.py?line=1419'>1420</a>\u001b[0m \u001b[39melif\u001b[39;00m ndims \u001b[39m!=\u001b[39m \u001b[39m1\u001b[39m:\n\u001b[0;32m-> <a href='file:///Users/thomas.greiner/miniforge3/envs/tensorflow-gpu/lib/python3.9/site-packages/tensorflow_probability/python/internal/distribution_util.py?line=1420'>1421</a>\u001b[0m   \u001b[39mraise\u001b[39;00m \u001b[39mValueError\u001b[39;00m(\u001b[39m'\u001b[39m\u001b[39mInput is neither scalar nor vector.\u001b[39m\u001b[39m'\u001b[39m)\n\u001b[1;32m   <a href='file:///Users/thomas.greiner/miniforge3/envs/tensorflow-gpu/lib/python3.9/site-packages/tensorflow_probability/python/internal/distribution_util.py?line=1422'>1423</a>\u001b[0m \u001b[39m# ndims == 1\u001b[39;00m\n\u001b[1;32m   <a href='file:///Users/thomas.greiner/miniforge3/envs/tensorflow-gpu/lib/python3.9/site-packages/tensorflow_probability/python/internal/distribution_util.py?line=1423'>1424</a>\u001b[0m \u001b[39mreturn\u001b[39;00m x\n",
      "\u001b[0;31mValueError\u001b[0m: Input is neither scalar nor vector."
     ]
    },
    {
     "data": {
      "image/png": "[encoded data removed]",
      "text/plain": [
       "<Figure size 432x432 with 1 Axes>"
      ]
     },
     "metadata": {
      "needs_background": "light"
     },
     "output_type": "display_data"
    }
   ],
   "source": [
    "activation = 'relu'\n",
    "maf = tfd.TransformedDistribution(tfd.Sample(base_distribution, sample_shape=[2]),\n",
    "                                  make_masked_autoregressive_flow(activation=activation))\n",
    "\n",
    "plot_contour_plot([maf], scale_fig=6, title=[activation])\n"
   ]
  },
  {
   "cell_type": "code",
   "execution_count": 100,
   "metadata": {},
   "outputs": [
    {
     "data": {
      "text/plain": [
       "array([[0., 0., 0., 0., 0., 0., 0., 0., 0., 0.],\n",
       "       [0., 0., 0., 0., 0., 0., 0., 0., 0., 0.],\n",
       "       [0., 0., 0., 0., 0., 0., 0., 0., 0., 0.],\n",
       "       [0., 0., 0., 0., 0., 0., 0., 0., 0., 0.],\n",
       "       [0., 0., 0., 0., 0., 0., 0., 0., 0., 0.],\n",
       "       [0., 0., 0., 0., 0., 0., 0., 0., 0., 0.],\n",
       "       [0., 0., 0., 0., 0., 0., 0., 0., 0., 0.],\n",
       "       [0., 0., 0., 0., 0., 0., 0., 0., 0., 0.],\n",
       "       [0., 0., 0., 0., 0., 0., 0., 0., 0., 0.],\n",
       "       [0., 0., 0., 0., 0., 0., 0., 0., 0., 0.]])"
      ]
     },
     "execution_count": 100,
     "metadata": {},
     "output_type": "execute_result"
    }
   ],
   "source": [
    "np.zeros([10, 10])"
   ]
  },
  {
   "cell_type": "code",
   "execution_count": null,
   "metadata": {},
   "outputs": [],
   "source": []
  }
 ],
 "metadata": {
  "interpreter": {
   "hash": "f9d9e1fc86f789919f59fffd9236654e4b958c6198fc530b5f74fc2cbd69becc"
  },
  "kernelspec": {
   "display_name": "Python 3.9.12 ('tensorflow-gpu')",
   "language": "python",
   "name": "python3"
  },
  "language_info": {
   "codemirror_mode": {
    "name": "ipython",
    "version": 3
   },
   "file_extension": ".py",
   "mimetype": "text/x-python",
   "name": "python",
   "nbconvert_exporter": "python",
   "pygments_lexer": "ipython3",
   "version": "3.8.13"
  },
  "orig_nbformat": 4
 },
 "nbformat": 4,
 "nbformat_minor": 2
}
